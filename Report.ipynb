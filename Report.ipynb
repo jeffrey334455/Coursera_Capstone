{
 "cells": [
  {
   "cell_type": "markdown",
   "metadata": {
    "collapsed": true
   },
   "source": [
    "The purpose of this report is to predict the severity of the accident base on the historical data given. In this case, I will be using multiple linear regression to predict the severity. The depend variable Y will be the severity code and the independent variable X will be person, pedestrian, cyclist, and vehicle involved in the accident. With the number of people involved in the collision, it is possible to use machine learning to predict how severe the accident cause. People such as doctor and nurses might be interested in this report since they can know how many doctors they need or how urgent the patients need to be treated before the ambulance get to the hospitals. "
   ]
  }
 ],
 "metadata": {
  "kernelspec": {
   "display_name": "Python 3.6",
   "language": "python",
   "name": "python3"
  },
  "language_info": {
   "codemirror_mode": {
    "name": "ipython",
    "version": 3
   },
   "file_extension": ".py",
   "mimetype": "text/x-python",
   "name": "python",
   "nbconvert_exporter": "python",
   "pygments_lexer": "ipython3",
   "version": "3.6.9"
  }
 },
 "nbformat": 4,
 "nbformat_minor": 1
}
